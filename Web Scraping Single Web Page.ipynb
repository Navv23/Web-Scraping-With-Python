{
 "cells": [
  {
   "cell_type": "code",
   "execution_count": 1,
   "id": "8c3841be",
   "metadata": {},
   "outputs": [],
   "source": [
    "import requests \n",
    "from bs4 import BeautifulSoup\n",
    "import pandas as pd"
   ]
  },
  {
   "cell_type": "code",
   "execution_count": 2,
   "id": "c0c1a5f9",
   "metadata": {},
   "outputs": [],
   "source": [
    "url ='https://www.moneycontrol.com/india/stockpricequote/refineries/relianceindustries/RI'"
   ]
  },
  {
   "cell_type": "code",
   "execution_count": 3,
   "id": "89a4ca01",
   "metadata": {},
   "outputs": [],
   "source": [
    "page = requests.get(url)\n",
    "ext = BeautifulSoup(page.text, 'lxml')"
   ]
  },
  {
   "cell_type": "code",
   "execution_count": 4,
   "id": "287480b7",
   "metadata": {},
   "outputs": [],
   "source": [
    "name = ext.find('h1').text"
   ]
  },
  {
   "cell_type": "code",
   "execution_count": 5,
   "id": "d61b369d",
   "metadata": {},
   "outputs": [],
   "source": [
    "price = ext.find('div',class_='inprice1 nsecp').text"
   ]
  },
  {
   "cell_type": "code",
   "execution_count": 6,
   "id": "ebf0d473",
   "metadata": {},
   "outputs": [],
   "source": [
    "previous_close = ext.find('td',class_='nseprvclose bseprvclose').text"
   ]
  },
  {
   "cell_type": "code",
   "execution_count": 7,
   "id": "f184a251",
   "metadata": {},
   "outputs": [],
   "source": [
    "fifty_two_w_low = ext.find('td',class_='nseL52 bseL52').text"
   ]
  },
  {
   "cell_type": "code",
   "execution_count": 8,
   "id": "380b74e2",
   "metadata": {},
   "outputs": [],
   "source": [
    "fifty_two_w_high = ext.find('td',class_='nseH52 bseH52').text"
   ]
  },
  {
   "cell_type": "code",
   "execution_count": 9,
   "id": "941dc70b",
   "metadata": {},
   "outputs": [],
   "source": [
    "market_cap = ext.find('td',class_='nsemktcap bsemktcap').text"
   ]
  },
  {
   "cell_type": "code",
   "execution_count": 10,
   "id": "c8709129",
   "metadata": {},
   "outputs": [],
   "source": [
    "df = pd.DataFrame({'name':name,'stock_price':price,'previous_close':previous_close,'52_week_low':fifty_two_w_low,\n",
    "                  '52_week_high':fifty_two_w_high,'market_cap':market_cap},index=[0])"
   ]
  },
  {
   "cell_type": "code",
   "execution_count": 11,
   "id": "2cf34a4d",
   "metadata": {},
   "outputs": [
    {
     "data": {
      "text/html": [
       "<div>\n",
       "<style scoped>\n",
       "    .dataframe tbody tr th:only-of-type {\n",
       "        vertical-align: middle;\n",
       "    }\n",
       "\n",
       "    .dataframe tbody tr th {\n",
       "        vertical-align: top;\n",
       "    }\n",
       "\n",
       "    .dataframe thead th {\n",
       "        text-align: right;\n",
       "    }\n",
       "</style>\n",
       "<table border=\"1\" class=\"dataframe\">\n",
       "  <thead>\n",
       "    <tr style=\"text-align: right;\">\n",
       "      <th></th>\n",
       "      <th>name</th>\n",
       "      <th>stock_price</th>\n",
       "      <th>previous_close</th>\n",
       "      <th>52_week_low</th>\n",
       "      <th>52_week_high</th>\n",
       "      <th>market_cap</th>\n",
       "    </tr>\n",
       "  </thead>\n",
       "  <tbody>\n",
       "    <tr>\n",
       "      <th>0</th>\n",
       "      <td>Reliance Industries Ltd.</td>\n",
       "      <td>2,731.35</td>\n",
       "      <td>2,712.20\\n</td>\n",
       "      <td>2,180.00</td>\n",
       "      <td>2,856.15</td>\n",
       "      <td>1,847,945</td>\n",
       "    </tr>\n",
       "  </tbody>\n",
       "</table>\n",
       "</div>"
      ],
      "text/plain": [
       "                       name stock_price  \\\n",
       "0  Reliance Industries Ltd.    2,731.35   \n",
       "\n",
       "                           previous_close 52_week_low 52_week_high market_cap  \n",
       "0  2,712.20\\n                                2,180.00     2,856.15  1,847,945  "
      ]
     },
     "execution_count": 11,
     "metadata": {},
     "output_type": "execute_result"
    }
   ],
   "source": [
    "df"
   ]
  },
  {
   "cell_type": "code",
   "execution_count": null,
   "id": "42c1ed52",
   "metadata": {},
   "outputs": [],
   "source": []
  }
 ],
 "metadata": {
  "kernelspec": {
   "display_name": "Python 3 (ipykernel)",
   "language": "python",
   "name": "python3"
  },
  "language_info": {
   "codemirror_mode": {
    "name": "ipython",
    "version": 3
   },
   "file_extension": ".py",
   "mimetype": "text/x-python",
   "name": "python",
   "nbconvert_exporter": "python",
   "pygments_lexer": "ipython3",
   "version": "3.9.7"
  }
 },
 "nbformat": 4,
 "nbformat_minor": 5
}
